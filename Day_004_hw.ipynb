{
 "cells": [
  {
   "cell_type": "code",
   "execution_count": 1,
   "metadata": {},
   "outputs": [],
   "source": [
    "# 列出 Int128, Int32, Int16, Int8, UInt128, UInt64, UInt32, UInt16, UInt8 整數型別的最小值及最大值"
   ]
  },
  {
   "cell_type": "code",
   "execution_count": 2,
   "metadata": {},
   "outputs": [
    {
     "name": "stdout",
     "output_type": "stream",
     "text": [
      "Int128 : 最小值 -170141183460469231731687303715884105728, 最大值 170141183460469231731687303715884105727\n",
      "Int32  : 最小值 -2147483648, 最大值 2147483647\n",
      "Int16  : 最小值 -32768, 最大值 32767\n",
      "Int8   : 最小值 -128, 最大值 127\n",
      "UInt128: 最小值 0, 最大值 340282366920938463463374607431768211455\n",
      "UInt64 : 最小值 0, 最大值 18446744073709551615\n",
      "UInt32 : 最小值 0, 最大值 4294967295\n",
      "UInt16 : 最小值 0, 最大值 65535\n",
      "UInt8  : 最小值 0, 最大值 255\n"
     ]
    }
   ],
   "source": [
    "for T in [Int128, Int32, Int16, Int8, UInt128, UInt64, UInt32, UInt16, UInt8]\n",
    "    println(\"$(rpad(T,7)): 最小值 $(typemin(T)), 最大值 $(typemax(T))\")\n",
    "end"
   ]
  },
  {
   "cell_type": "code",
   "execution_count": 3,
   "metadata": {},
   "outputs": [],
   "source": [
    "# 列出 Float32, Float16 浮點數型別的最小和最大值"
   ]
  },
  {
   "cell_type": "code",
   "execution_count": 4,
   "metadata": {},
   "outputs": [
    {
     "name": "stdout",
     "output_type": "stream",
     "text": [
      "Float32: 最小值 -Inf, 最大值 Inf\n",
      "Float16: 最小值 -Inf, 最大值 Inf\n"
     ]
    }
   ],
   "source": [
    "for T in [Float32, Float16]\n",
    "    println(\"$(rpad(T,7)): 最小值 $(typemin(T)), 最大值 $(typemax(T))\")\n",
    "end"
   ]
  },
  {
   "cell_type": "code",
   "execution_count": null,
   "metadata": {},
   "outputs": [],
   "source": []
  }
 ],
 "metadata": {
  "kernelspec": {
   "display_name": "Julia 1.2.0",
   "language": "julia",
   "name": "julia-1.2"
  },
  "language_info": {
   "file_extension": ".jl",
   "mimetype": "application/julia",
   "name": "julia",
   "version": "1.2.0"
  }
 },
 "nbformat": 4,
 "nbformat_minor": 2
}
